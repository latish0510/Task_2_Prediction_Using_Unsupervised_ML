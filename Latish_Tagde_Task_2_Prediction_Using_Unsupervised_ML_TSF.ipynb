{
 "cells": [
  {
   "cell_type": "markdown",
   "id": "9e6d79a5",
   "metadata": {},
   "source": [
    "\n",
    "## **Task 2  - PREDICTION USING UNSUPERVISED ML**\n",
    "---\n",
    "\n",
    "* ***Task***: From the given ‘Iris’ dataset, predict the optimum number of\n",
    "clusters and represent it visually.\n",
    "\n",
    "* ***Libraries/Datasets Used***: Scikit Learn, Pandas, Numpy, Iris Dataset\n",
    "\n",
    "\n",
    "* Task completed during Data Science & Analytics Internship @ The Sparks Foundation\n",
    "\n",
    "**By- Latish Tagde**\n",
    "\n",
    "---\n",
    "\n",
    "***Links:*** \n",
    "\n",
    "* **GitHub**: \n",
    "\n",
    "* **Dataset**: https://drive.google.com/file/d/11Iq7YvbWZbt8VXjfm06brx66b10YiwK-/view\n"
   ]
  },
  {
   "cell_type": "code",
   "execution_count": null,
   "id": "a29c98c4",
   "metadata": {},
   "outputs": [],
   "source": [
    "# Importing the libraries\n",
    "import numpy as np\n",
    "import matplotlib.pyplot as plt\n",
    "import pandas as pd\n",
    "from sklearn import datasets"
   ]
  },
  {
   "cell_type": "markdown",
   "id": "3edb0a59",
   "metadata": {},
   "source": [
    "### Loading the Iris Dataset into the notebook"
   ]
  },
  {
   "cell_type": "code",
   "execution_count": null,
   "id": "91c8a536",
   "metadata": {},
   "outputs": [],
   "source": [
    "# Load the iris dataset\n",
    "iris = datasets.load_iris()\n",
    "iris_df = pd.DataFrame(iris.data, columns = iris.feature_names)\n",
    "iris_df.head() # See the first 5 rows"
   ]
  },
  {
   "cell_type": "markdown",
   "id": "84b44b62",
   "metadata": {},
   "source": [
    "### Finding the optimal number of clusters for K-Means and determining the value of K "
   ]
  },
  {
   "cell_type": "code",
   "execution_count": null,
   "id": "5c1c1b4a",
   "metadata": {},
   "outputs": [],
   "source": [
    "x = iris_df.iloc[:, [0, 1, 2, 3]].values\n",
    "\n",
    "from sklearn.cluster import KMeans\n",
    "wcss = []\n",
    "\n",
    "for i in range(1, 11):\n",
    "    kmeans = KMeans(n_clusters = i, init = 'k-means++', \n",
    "                    max_iter = 300, n_init = 10, random_state = 0)\n",
    "    kmeans.fit(x)\n",
    "    wcss.append(kmeans.inertia_)"
   ]
  },
  {
   "cell_type": "markdown",
   "id": "e5eac243",
   "metadata": {},
   "source": [
    "### Plotting the graph onto a line graph to observe the pattern"
   ]
  },
  {
   "cell_type": "code",
   "execution_count": null,
   "id": "2913a7f8",
   "metadata": {},
   "outputs": [],
   "source": [
    "# Plotting the results onto a line graph, \n",
    "# `allowing us to observe 'The elbow'\n",
    "plt.plot(range(1, 11), wcss)\n",
    "plt.title('The elbow method')\n",
    "plt.xlabel('Number of clusters')\n",
    "plt.ylabel('WCSS') # Within cluster sum of squares\n",
    "plt.show()"
   ]
  },
  {
   "cell_type": "markdown",
   "id": "ce6133bd",
   "metadata": {},
   "source": [
    "\"The elbow method\" got its name from the elbow pattern forming something like above. The optimal clusters are formed where the elbow occurs. This is when the WCSS(Within Cluster Sum of Squares) doesn't decrease with every iteration significantly.\n",
    "\n",
    "Here we choose the number of clusters as ** '3**'."
   ]
  },
  {
   "cell_type": "markdown",
   "id": "01bb8702",
   "metadata": {},
   "source": [
    "### Creating K-Means Classifier"
   ]
  },
  {
   "cell_type": "code",
   "execution_count": null,
   "id": "8c5616d4",
   "metadata": {},
   "outputs": [],
   "source": [
    "# Applying kmeans to the dataset / Creating the kmeans classifier\n",
    "kmeans = KMeans(n_clusters = 3, init = 'k-means++',\n",
    "                max_iter = 300, n_init = 10, random_state = 0)\n",
    "y_kmeans = kmeans.fit_predict(x)"
   ]
  },
  {
   "cell_type": "markdown",
   "id": "26ebcd0f",
   "metadata": {},
   "source": [
    "### Visualizing the cluster data"
   ]
  },
  {
   "cell_type": "code",
   "execution_count": null,
   "id": "e0b1f65d",
   "metadata": {},
   "outputs": [],
   "source": [
    "# Visualising the clusters - On the first two columns\n",
    "plt.scatter(x[y_kmeans == 0, 0], x[y_kmeans == 0, 1], \n",
    "            s = 100, c = 'red', label = 'Iris-setosa')\n",
    "plt.scatter(x[y_kmeans == 1, 0], x[y_kmeans == 1, 1], \n",
    "            s = 100, c = 'blue', label = 'Iris-versicolour')\n",
    "plt.scatter(x[y_kmeans == 2, 0], x[y_kmeans == 2, 1],\n",
    "            s = 100, c = 'green', label = 'Iris-virginica')"
   ]
  },
  {
   "cell_type": "markdown",
   "id": "31864399",
   "metadata": {},
   "source": [
    "### Plotting the Centroids of the clusters"
   ]
  },
  {
   "cell_type": "code",
   "execution_count": null,
   "id": "6426ae7c",
   "metadata": {},
   "outputs": [],
   "source": [
    "# Plotting the centroids of the clusters\n",
    "plt.scatter(kmeans.cluster_centers_[:, 0], kmeans.cluster_centers_[:,1], \n",
    "            s = 100, c = 'yellow', label = 'Centroids')\n",
    "\n",
    "plt.legend()"
   ]
  },
  {
   "cell_type": "markdown",
   "id": "ff32dff0",
   "metadata": {},
   "source": [
    "### Now Combining both the above graphs together"
   ]
  },
  {
   "cell_type": "code",
   "execution_count": null,
   "id": "bf4b386e",
   "metadata": {},
   "outputs": [],
   "source": [
    "# Visualising the clusters - On the first two columns\n",
    "plt.scatter(x[y_kmeans == 0, 0], x[y_kmeans == 0, 1], \n",
    "            s = 100, c = 'red', label = 'Iris-setosa')\n",
    "plt.scatter(x[y_kmeans == 1, 0], x[y_kmeans == 1, 1], \n",
    "            s = 100, c = 'blue', label = 'Iris-versicolour')\n",
    "plt.scatter(x[y_kmeans == 2, 0], x[y_kmeans == 2, 1],\n",
    "            s = 100, c = 'green', label = 'Iris-virginica')\n",
    "# Plotting the centroids of the clusters\n",
    "plt.scatter(kmeans.cluster_centers_[:, 0], kmeans.cluster_centers_[:,1], \n",
    "            s = 100, c = 'yellow', label = 'Centroids')\n",
    "\n",
    "plt.legend()"
   ]
  },
  {
   "cell_type": "markdown",
   "id": "0caf2729",
   "metadata": {},
   "source": [
    "---"
   ]
  },
  {
   "cell_type": "markdown",
   "id": "0f56d9c1",
   "metadata": {},
   "source": [
    "## -------------------- End of Code -------------------- ##"
   ]
  },
  {
   "cell_type": "code",
   "execution_count": null,
   "id": "dc9d3ca1",
   "metadata": {},
   "outputs": [],
   "source": []
  },
  {
   "cell_type": "code",
   "execution_count": null,
   "id": "744c04ab",
   "metadata": {},
   "outputs": [],
   "source": []
  }
 ],
 "metadata": {
  "kernelspec": {
   "display_name": "Python 3 (ipykernel)",
   "language": "python",
   "name": "python3"
  },
  "language_info": {
   "codemirror_mode": {
    "name": "ipython",
    "version": 3
   },
   "file_extension": ".py",
   "mimetype": "text/x-python",
   "name": "python",
   "nbconvert_exporter": "python",
   "pygments_lexer": "ipython3",
   "version": "3.9.7"
  }
 },
 "nbformat": 4,
 "nbformat_minor": 5
}
